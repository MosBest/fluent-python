{
 "cells": [
  {
   "cell_type": "markdown",
   "metadata": {},
   "source": [
    "python用统一的风格去处理序列数据：\n",
    "\n",
    "    不断你是哪种数据结构（字符串，列表，XML...），他们都公用一套丰富的操作：迭代，切片，排序，拼接......"
   ]
  },
  {
   "cell_type": "markdown",
   "metadata": {},
   "source": [
    "容器序列类型 和 扁平序列类型  都存在于python标准库，且都是用 c实现。\n",
    "\n",
    "\n",
    "||容器序列|扁平序列|\n",
    "|-----|-----|-----|\n",
    "|优点1|1. 一个 容器序列 能够存放不同类型的数据 |1. 一个扁平序列 只能容纳一种类型|\n",
    "|优点2|2. 容器序列 存放的是他们所包含的任意类型的对象的引用|2. 扁平序列 里存放的是值 而不是引用。|\n",
    "|序列包括|list, tuple, cllections.deque|str, bytes, bytearray, memoryview, array.array|\n",
    "    \n",
    "        \n",
    "    \n",
    "    \n",
    "\n"
   ]
  },
  {
   "cell_type": "markdown",
   "metadata": {},
   "source": [
    "\n",
    "||可变序列类型|不可变序列类型|\n",
    "|-----|-----|-----|\n",
    "|特点|序列内的值可以改变|序列内的值不可改变|\n",
    "|序列包括|list, bytearray, array.array, collections.deque, memoryview|tuple, str, bytes|\n",
    "\n"
   ]
  },
  {
   "cell_type": "markdown",
   "metadata": {},
   "source": [
    "||列表推导|生成器表达式|\n",
    "|-----|------|------|\n",
    "|功能|快捷的构建 列表list|快捷的构建(除列表外)其他任何类型的序列|\n",
    "|目的|提高可读性高，快捷|提高可读性高，快捷|\n",
    "|使用方式|使用[], 如[i for i in s if i > 1]|使用(), 如( i for i in s if i > 1)|\n",
    "|内部实现|执行了[i for i in x]后，解释器会将整个完整的列表都保存在内存中|遵守迭代器协议，执行了(i for i in x) 后，得到的仅仅是一个迭代器，里面的代码其实并没有执行,所以内存也没有数据，只是可以在以后的代码中逐个地拿出 数据， 迭代器的优势就是在于，减少内存的消耗|\n"
   ]
  },
  {
   "cell_type": "markdown",
   "metadata": {},
   "source": [
    "通常情况，列表推导仅仅时用来创建新的列表，并且尽量保持简短。如果列表推导太长，还不如用for循环重写"
   ]
  },
  {
   "cell_type": "markdown",
   "metadata": {},
   "source": [
    "注意：\n",
    "\n",
    "在编辑器（如pycharm）中写代码时，为了代码可读性，当一行代码太长时，就需要在下一行 继续写，这个时候就需要使用 续行符\"\\\"。\n",
    "\n",
    "比如\n",
    "```python\n",
    "a = numpy.xxx.xxx(xxx).xxx().xxx.xxx \\ \n",
    "        xxxxxxxxx\n",
    "\n",
    "```\n",
    "\n",
    "但是如果在括号里面换行就不一样了。\n",
    "\n",
    "python 会忽略代码里[] ,{}, () 中的换行，因此如果你的代码里有多行的列表，列表推导， 生成器表达式， 字典这一类的，就可以省略不太好看的续行符\"\\\"。\n",
    "\n",
    "比如\n",
    "```\n",
    "a = [xxxxxxxxxxxxxxxxxxxxxxxxxxx \n",
    "        xxxxxxxx]\n",
    "```"
   ]
  },
  {
   "cell_type": "markdown",
   "metadata": {},
   "source": [
    "列表推导， 生成器表达式， 集合(set)推导， 字典推导 在 python2.x 和 python3.x 的不同：\n",
    "\n",
    "(以下以 列表推导为例，但也同时适用于 另外 3个)\n",
    "\n",
    "在python2.x中，列表推导里面的变量作用域 和 列表推导外面的变量作用域 是公共的。 也就是说，列表推导里面 变量值得改变 是 会影响 列表推导外面的变量的值的。\n",
    "\n",
    "比如：\n",
    "```python\n",
    "# 在python2.x\n",
    "x = 1\n",
    "\n",
    "a = [x for x in range(6)]\n",
    "\n",
    "print(x)\n",
    "# 结果为5\n",
    "```\n",
    "\n",
    "但是在python3 中 列表推导 都有自己的局部作用域。表达式内部的变量和赋值只会在局部起作用，局部变量并不会影响 表达式上下文的同名变量。\n",
    "\n",
    "比如\n",
    "```python\n",
    "# 在python3.x\n",
    "x = 1\n",
    "\n",
    "a = [x for x in range(6)]\n",
    "\n",
    "print(x)\n",
    "# 结果为1\n",
    "\n",
    "```"
   ]
  },
  {
   "cell_type": "markdown",
   "metadata": {},
   "source": [
    "注意：\n",
    "    \n",
    "    tuple() 和 生成器表达式(xxx) 是不同的东西。\n",
    "    一个最终得到的是 元组tuple, 一个最终得到的是 生成器 type(a)\n",
    "比如下面操作："
   ]
  },
  {
   "cell_type": "code",
   "execution_count": 16,
   "metadata": {},
   "outputs": [
    {
     "name": "stdout",
     "output_type": "stream",
     "text": [
      "<class 'tuple'> (1, 2, 3)\n",
      "<class 'generator'> <generator object <genexpr> at 0x0000023C1CFFD780>\n"
     ]
    }
   ],
   "source": [
    "a = tuple([1,2,3])\n",
    "print(type(a),a)\n",
    "a = (i for  i in range(3))\n",
    "print(type(a),a)"
   ]
  },
  {
   "cell_type": "code",
   "execution_count": null,
   "metadata": {
    "collapsed": true
   },
   "outputs": [],
   "source": []
  }
 ],
 "metadata": {
  "anaconda-cloud": {},
  "kernelspec": {
   "display_name": "Python 3",
   "language": "python",
   "name": "python3"
  },
  "language_info": {
   "codemirror_mode": {
    "name": "ipython",
    "version": 3
   },
   "file_extension": ".py",
   "mimetype": "text/x-python",
   "name": "python",
   "nbconvert_exporter": "python",
   "pygments_lexer": "ipython3",
   "version": "3.6.7"
  }
 },
 "nbformat": 4,
 "nbformat_minor": 1
}
